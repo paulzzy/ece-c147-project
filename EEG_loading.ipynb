{
 "cells": [
  {
   "cell_type": "code",
   "execution_count": null,
   "metadata": {
    "collapsed": true
   },
   "outputs": [],
   "source": [
    "import numpy as np\n",
    "import torch\n",
    "from sklearn.model_selection import train_test_split\n",
    "from eeg_classifier import EEGClassifier"
   ]
  },
  {
   "cell_type": "code",
   "execution_count": null,
   "metadata": {
    "collapsed": true
   },
   "outputs": [],
   "source": [
    "X_test = torch.from_numpy(np.load(\"X_test.npy\").astype(np.float32))\n",
    "y_test = torch.from_numpy(np.load(\"y_test.npy\").astype(np.float32))\n",
    "person_train_valid = torch.from_numpy(\n",
    "    np.load(\"person_train_valid.npy\").astype(np.float32)\n",
    ")\n",
    "X_train_valid = torch.from_numpy(np.load(\"X_train_valid.npy\").astype(np.float32))\n",
    "y_train_valid = torch.from_numpy(np.load(\"y_train_valid.npy\").astype(np.float32))\n",
    "person_test = torch.from_numpy(np.load(\"person_test.npy\").astype(np.float32))"
   ]
  },
  {
   "cell_type": "markdown",
   "metadata": {},
   "source": [
    "### Shape of data\n"
   ]
  },
  {
   "cell_type": "code",
   "execution_count": null,
   "metadata": {},
   "outputs": [],
   "source": [
    "print(\"Training/Valid data shape: {}\".format(X_train_valid.shape))\n",
    "print(\"Test data shape: {}\".format(X_test.shape))\n",
    "print(\"Training/Valid target shape: {}\".format(y_train_valid.shape))\n",
    "print(\"Test target shape: {}\".format(y_test.shape))\n",
    "print(\"Person train/valid shape: {}\".format(person_train_valid.shape))\n",
    "print(\"Person test shape: {}\".format(person_test.shape))"
   ]
  },
  {
   "cell_type": "code",
   "execution_count": null,
   "metadata": {},
   "outputs": [],
   "source": [
    "# Train test split using sklearn\n",
    "X_train, X_valid, y_train, y_valid = train_test_split(\n",
    "    X_train_valid, y_train_valid, test_size=0.2, random_state=42\n",
    ")\n",
    "\n",
    "# Create EEGClassifier\n",
    "model = EEGClassifier()\n",
    "model.fit(X_train, y_train, X_valid, y_valid)\n",
    "model.evaluate(X_test, y_test)\n",
    "model.save(\"model.pth\")"
   ]
  }
 ],
 "metadata": {
  "kernelspec": {
   "display_name": ".venv",
   "language": "python",
   "name": "python3"
  },
  "language_info": {
   "codemirror_mode": {
    "name": "ipython",
    "version": 3
   },
   "file_extension": ".py",
   "mimetype": "text/x-python",
   "name": "python",
   "nbconvert_exporter": "python",
   "pygments_lexer": "ipython3",
   "version": "3.12.2"
  }
 },
 "nbformat": 4,
 "nbformat_minor": 2
}
